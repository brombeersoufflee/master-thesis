{
 "cells": [
  {
   "cell_type": "code",
   "execution_count": null,
   "id": "84ed0a1a",
   "metadata": {},
   "outputs": [],
   "source": []
  },
  {
   "cell_type": "code",
   "execution_count": 1,
   "id": "2c8199e9",
   "metadata": {},
   "outputs": [
    {
     "ename": "ModuleNotFoundError",
     "evalue": "No module named 'data_load'",
     "output_type": "error",
     "traceback": [
      "\u001b[31m---------------------------------------------------------------------------\u001b[39m",
      "\u001b[31mModuleNotFoundError\u001b[39m                       Traceback (most recent call last)",
      "\u001b[36mCell\u001b[39m\u001b[36m \u001b[39m\u001b[32mIn[1]\u001b[39m\u001b[32m, line 1\u001b[39m\n\u001b[32m----> \u001b[39m\u001b[32m1\u001b[39m \u001b[38;5;28;01mimport\u001b[39;00m\u001b[38;5;250m \u001b[39m\u001b[34;01mdata_load\u001b[39;00m\n\u001b[32m      2\u001b[39m \u001b[38;5;66;03m# Data loading and preprocessing\u001b[39;00m\n\u001b[32m      3\u001b[39m data_loader = data_load.DataLoader()\n",
      "\u001b[31mModuleNotFoundError\u001b[39m: No module named 'data_load'"
     ]
    }
   ],
   "source": [
    "import data_load\n",
    "# Data loading and preprocessing\n",
    "data_loader = data_load.DataLoader()\n",
    "print(\"Loading data...\")\n",
    "volumes, labels, patient_id, eye_side = data_loader.retina_npy()\n",
    "print(\"Splitting data...\")\n",
    "train_volumes, test_volumes, train_labels, test_labels, train_patient_id, test_patient_id, train_eye_side, test_eye_side = data_loader.retina_npy_split(volumes, labels, patient_id, eye_side)\n",
    "print(f\"Train data shape: {train_volumes.shape}, Train labels shape: {train_labels.shape}\")\n",
    "print(f\"Test data shape: {test_volumes.shape}, Test labels shape: {test_labels.shape}\")\n",
    "num_glaucoma = sum(train_labels)\n",
    "num_healthy = len(train_labels) - num_glaucoma"
   ]
  },
  {
   "cell_type": "code",
   "execution_count": null,
   "id": "782ab864",
   "metadata": {},
   "outputs": [],
   "source": []
  }
 ],
 "metadata": {
  "kernelspec": {
   "display_name": "venv",
   "language": "python",
   "name": "python3"
  },
  "language_info": {
   "codemirror_mode": {
    "name": "ipython",
    "version": 3
   },
   "file_extension": ".py",
   "mimetype": "text/x-python",
   "name": "python",
   "nbconvert_exporter": "python",
   "pygments_lexer": "ipython3",
   "version": "3.12.6"
  }
 },
 "nbformat": 4,
 "nbformat_minor": 5
}
