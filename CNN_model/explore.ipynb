{
 "cells": [
  {
   "cell_type": "markdown",
   "id": "2e14c0e4",
   "metadata": {},
   "source": [
    "# model exploration and counterfactual understanding"
   ]
  },
  {
   "cell_type": "code",
   "execution_count": 1,
   "id": "da6a33b3",
   "metadata": {},
   "outputs": [
    {
     "name": "stdout",
     "output_type": "stream",
     "text": [
      "File location using os.getcwd(): c:\\Users\\tabea\\Documents\\University\\UM\\Master\\Master_Thesis\\master-thesis\\CNN_model\n"
     ]
    }
   ],
   "source": [
    "import os\n",
    "\n",
    "print(\"File location using os.getcwd():\", os.getcwd())"
   ]
  },
  {
   "cell_type": "code",
   "execution_count": null,
   "id": "5fe6ed0a",
   "metadata": {},
   "outputs": [],
   "source": [
    "import tensorflow as tf\n",
    "from tensorflow import keras\n",
    "from tensorflow.keras.saving import load_model\n",
    "import numpy as np\n",
    "from ceml.tfkeras import generate_counterfactual"
   ]
  },
  {
   "cell_type": "code",
   "execution_count": 4,
   "id": "5c1f31a6",
   "metadata": {},
   "outputs": [],
   "source": [
    "model3 = load_model(\"model_fold_3.keras\")"
   ]
  },
  {
   "cell_type": "code",
   "execution_count": null,
   "id": "18658ea2",
   "metadata": {},
   "outputs": [],
   "source": [
    "# Select a data point whose prediction has to be explained\n",
    "\n",
    "x_orig = X_test[1,:]\n",
    "\n",
    "print(\"Prediction on x: {0}\".format(model3.predict(np.array([x_orig]))))\n",
    "\n",
    "\n",
    "# Whitelist of features we can use/change when computing the counterfactual\n",
    "\n",
    "features_whitelist = None\n",
    "\n",
    "\n",
    "# Compute counterfactual\n",
    "\n",
    "optimizer = tf.compat.v1.train.GradientDescentOptimizer(learning_rate=1.0)    # Init optimization algorithm\n",
    "\n",
    "optimizer_args = {\"max_iter\": 1000}\n",
    "\n",
    "\n",
    "print(\"\\nCompute counterfactual ....\") \n",
    "\n",
    "print(generate_counterfactual(model, x_orig, y_target=0, features_whitelist=features_whitelist, regularization=\"l1\", C=0.01, optimizer=optimizer, optimizer_args=optimizer_args))"
   ]
  }
 ],
 "metadata": {
  "kernelspec": {
   "display_name": "venv",
   "language": "python",
   "name": "python3"
  },
  "language_info": {
   "codemirror_mode": {
    "name": "ipython",
    "version": 3
   },
   "file_extension": ".py",
   "mimetype": "text/x-python",
   "name": "python",
   "nbconvert_exporter": "python",
   "pygments_lexer": "ipython3",
   "version": "3.12.6"
  }
 },
 "nbformat": 4,
 "nbformat_minor": 5
}
