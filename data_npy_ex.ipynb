{
 "cells": [
  {
   "cell_type": "markdown",
   "id": "dc97d847",
   "metadata": {},
   "source": [
    "# OCT volumes for glaucoma detection\n",
    "Creators\n",
    "\n",
    "    Ishikawa, Hiroshi\n",
    "\n",
    "#### Description\n",
    "\n",
    "OCT volumes used for the training and evaluation of a glaucoma detection classifier as described in\n",
    "\n",
    "A feature agnostic approach for glaucoma detection in OCT volumes\n",
    "https://arxiv.org/abs/1807.04855\n",
    "\n",
    "Volumes are in NumPy format. A viewer is available at https://github.com/maet3608/oct-viewer\n"
   ]
  },
  {
   "cell_type": "code",
   "execution_count": null,
   "id": "1e577852",
   "metadata": {},
   "outputs": [],
   "source": [
    "import data_load\n",
    "import numpy as np\n",
    "\n",
    "data_loader = data_load.DataLoader()\n",
    "# image_data, np_array_data, labels_data = data_loader.retina()\n",
    "np_array_data, labels_data, patient_id, eye_side = data_loader.retina_npy()\n",
    "\n",
    "labels_data"
   ]
  },
  {
   "cell_type": "code",
   "execution_count": null,
   "id": "e3428d02",
   "metadata": {},
   "outputs": [],
   "source": [
    "train_indeces = np.loadtxt(\"./data/train_data_indeces.npy\").astype(np.int64)\n",
    "test_indeces = np.loadtxt(\"./data/test_data_indeces.npy\").astype(np.int64)"
   ]
  },
  {
   "cell_type": "code",
   "execution_count": null,
   "id": "982ffce5",
   "metadata": {},
   "outputs": [],
   "source": [
    "len(train_indeces), len(test_indeces)"
   ]
  },
  {
   "cell_type": "code",
   "execution_count": null,
   "id": "067ffe7f",
   "metadata": {},
   "outputs": [],
   "source": [
    "train_oct = np.array(np_array_data[train_indeces])\n",
    "test_oct = np.array(np_array_data[test_indeces])\n",
    "train_labels = np.array(labels_data[train_indeces])\n",
    "test_labels = np.array(labels_data[test_indeces])\n",
    "train_patient_id = np.array(patient_id[train_indeces])\n",
    "test_patient_id = np.array(patient_id[test_indeces])\n",
    "train_eye_side = np.array(eye_side[train_indeces])\n",
    "test_eye_side = np.array(eye_side[test_indeces])"
   ]
  },
  {
   "cell_type": "code",
   "execution_count": null,
   "id": "d387ebec",
   "metadata": {},
   "outputs": [],
   "source": [
    "train_oct.shape, test_oct.shape[0]\n"
   ]
  },
  {
   "cell_type": "code",
   "execution_count": null,
   "id": "2f2e1f69",
   "metadata": {},
   "outputs": [],
   "source": [
    "train_labels.shape, test_labels.shape"
   ]
  },
  {
   "cell_type": "code",
   "execution_count": null,
   "id": "0a913dab",
   "metadata": {},
   "outputs": [],
   "source": [
    "train_patient_id.shape[0]"
   ]
  },
  {
   "cell_type": "code",
   "execution_count": null,
   "id": "c79b7f86",
   "metadata": {},
   "outputs": [],
   "source": []
  },
  {
   "cell_type": "code",
   "execution_count": null,
   "id": "82c16f32",
   "metadata": {},
   "outputs": [],
   "source": [
    "from sklearn.model_selection import GroupShuffleSplit \n",
    "\n",
    "splitter = GroupShuffleSplit(test_size=0.2, n_splits=1, random_state = 7)\n",
    "split = splitter.split(np_array_data, groups=patient_id)\n",
    "train_inds, test_inds = next(split)\n",
    "\n",
    "train = np_array_data[train_inds]\n",
    "test = np_array_data[test_inds]\n",
    "\n"
   ]
  },
  {
   "cell_type": "code",
   "execution_count": null,
   "id": "7f7a7ab7",
   "metadata": {},
   "outputs": [],
   "source": []
  },
  {
   "cell_type": "code",
   "execution_count": null,
   "id": "7c681cb2",
   "metadata": {},
   "outputs": [],
   "source": [
    "print(train_inds.dtype)"
   ]
  },
  {
   "cell_type": "code",
   "execution_count": null,
   "id": "de72eaa5",
   "metadata": {},
   "outputs": [],
   "source": [
    "print(f\"train shape: {train.shape}, test shape: {test.shape}\")"
   ]
  },
  {
   "cell_type": "code",
   "execution_count": null,
   "id": "ae45946a",
   "metadata": {},
   "outputs": [],
   "source": [
    "# generate cross-validation folds\n",
    "cv_split = data_loader.retina_npy_split(np_array_data, labels_data, patient_id, 10,True,42)"
   ]
  },
  {
   "cell_type": "code",
   "execution_count": null,
   "id": "e51e5c53",
   "metadata": {},
   "outputs": [],
   "source": [
    "import matplotlib.pyplot as plt\n",
    "fig, ax = plt.subplots(figsize=(6, 3))\n",
    "data_loader.plot_kfold(cv_split, ax)\n",
    "plt.tight_layout()\n",
    "fig.subplots_adjust(right=0.6)"
   ]
  },
  {
   "cell_type": "code",
   "execution_count": null,
   "id": "cca312c5",
   "metadata": {},
   "outputs": [],
   "source": [
    "from sklearn.model_selection import GroupKFold\n",
    "import matplotlib.pyplot as plt\n",
    "gkf2 = GroupKFold(n_splits=10, shuffle=True, random_state=53)\n",
    "cv_split2 = gkf2.split(X=np_array_data, y=labels_data, groups = patient_id)\n",
    "fig2, ax2 = plt.subplots(figsize=(6, 3))\n",
    "data_loader.plot_kfold(cv_split2, ax2)\n",
    "plt.tight_layout()\n",
    "fig2.subplots_adjust(right=0.6)\n",
    "plt.show()"
   ]
  },
  {
   "cell_type": "code",
   "execution_count": null,
   "id": "ad1399e1",
   "metadata": {},
   "outputs": [],
   "source": [
    "for i, (train_idx, test_idx) in enumerate(gkf2.split(X=np_array_data, y=labels_data, groups = patient_id)):\n",
    "    print(f\"Fold {i+1}:\")\n",
    "    # print(f\"Train indices: {train_idx[0:10]}\")\n",
    "    # print(f\"Test indices: {test_idx[0:10]}\")\n",
    "    print(sum(labels_data[train_idx])/len(train_idx), sum(labels_data[test_idx])/len(test_idx))\n"
   ]
  },
  {
   "cell_type": "code",
   "execution_count": null,
   "id": "32c5343c",
   "metadata": {},
   "outputs": [],
   "source": []
  },
  {
   "cell_type": "code",
   "execution_count": null,
   "id": "e52ae2a3",
   "metadata": {},
   "outputs": [],
   "source": [
    "https://matplotlib.org/stable/gallery/mplot3d/rotate_axes3d_sgskip.html#"
   ]
  },
  {
   "cell_type": "code",
   "execution_count": null,
   "id": "b8bcb640",
   "metadata": {},
   "outputs": [],
   "source": []
  }
 ],
 "metadata": {
  "kernelspec": {
   "display_name": "venv",
   "language": "python",
   "name": "python3"
  },
  "language_info": {
   "codemirror_mode": {
    "name": "ipython",
    "version": 3
   },
   "file_extension": ".py",
   "mimetype": "text/x-python",
   "name": "python",
   "nbconvert_exporter": "python",
   "pygments_lexer": "ipython3",
   "version": "3.12.6"
  }
 },
 "nbformat": 4,
 "nbformat_minor": 5
}
