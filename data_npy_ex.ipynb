{
 "cells": [
  {
   "cell_type": "markdown",
   "id": "dc97d847",
   "metadata": {},
   "source": [
    "# OCT volumes for glaucoma detection\n",
    "Creators\n",
    "\n",
    "    Ishikawa, Hiroshi\n",
    "\n",
    "#### Description\n",
    "\n",
    "OCT volumes used for the training and evaluation of a glaucoma detection classifier as described in\n",
    "\n",
    "A feature agnostic approach for glaucoma detection in OCT volumes\n",
    "https://arxiv.org/abs/1807.04855\n",
    "\n",
    "Volumes are in NumPy format. A viewer is available at https://github.com/maet3608/oct-viewer\n"
   ]
  },
  {
   "cell_type": "code",
   "execution_count": 1,
   "id": "1e577852",
   "metadata": {},
   "outputs": [
    {
     "name": "stdout",
     "output_type": "stream",
     "text": [
      "Normal\n"
     ]
    }
   ],
   "source": [
    "import data_load\n",
    "import numpy as np\n",
    "\n",
    "data_loader = data_load.DataLoader()\n",
    "# image_data, np_array_data, labels_data = data_loader.retina()\n",
    "np_array_data, labels_data, patient_id, eye_side = data_loader.retina_npy()\n",
    "\n"
   ]
  },
  {
   "cell_type": "code",
   "execution_count": 2,
   "id": "e3428d02",
   "metadata": {},
   "outputs": [],
   "source": [
    "train_indeces = np.loadtxt(\"./data/train_data_indeces.npy\").astype(np.int64)\n",
    "test_indeces = np.loadtxt(\"./data/test_data_indeces.npy\").astype(np.int64)"
   ]
  },
  {
   "cell_type": "code",
   "execution_count": 6,
   "id": "982ffce5",
   "metadata": {},
   "outputs": [
    {
     "data": {
      "text/plain": [
       "(882, 228)"
      ]
     },
     "execution_count": 6,
     "metadata": {},
     "output_type": "execute_result"
    }
   ],
   "source": [
    "len(train_indeces), len(test_indeces)"
   ]
  },
  {
   "cell_type": "code",
   "execution_count": 3,
   "id": "067ffe7f",
   "metadata": {},
   "outputs": [],
   "source": [
    "train_oct = np.array(np_array_data[train_indeces])\n",
    "test_oct = np.array(np_array_data[test_indeces])\n",
    "train_labels = np.array(labels_data[train_indeces])\n",
    "test_labels = np.array(labels_data[test_indeces])\n",
    "train_patient_id = np.array(patient_id[train_indeces])\n",
    "test_patient_id = np.array(patient_id[test_indeces])\n",
    "train_eye_side = np.array(eye_side[train_indeces])\n",
    "test_eye_side = np.array(eye_side[test_indeces])"
   ]
  },
  {
   "cell_type": "code",
   "execution_count": 12,
   "id": "d387ebec",
   "metadata": {},
   "outputs": [
    {
     "data": {
      "text/plain": [
       "((882, 64, 128, 64), 228)"
      ]
     },
     "execution_count": 12,
     "metadata": {},
     "output_type": "execute_result"
    }
   ],
   "source": [
    "train_oct.shape, test_oct.shape[0]\n"
   ]
  },
  {
   "cell_type": "code",
   "execution_count": 7,
   "id": "2f2e1f69",
   "metadata": {},
   "outputs": [
    {
     "data": {
      "text/plain": [
       "((882,), (228,))"
      ]
     },
     "execution_count": 7,
     "metadata": {},
     "output_type": "execute_result"
    }
   ],
   "source": [
    "train_labels.shape, test_labels.shape"
   ]
  },
  {
   "cell_type": "code",
   "execution_count": 11,
   "id": "0a913dab",
   "metadata": {},
   "outputs": [
    {
     "data": {
      "text/plain": [
       "882"
      ]
     },
     "execution_count": 11,
     "metadata": {},
     "output_type": "execute_result"
    }
   ],
   "source": [
    "train_patient_id.shape[0]"
   ]
  },
  {
   "cell_type": "code",
   "execution_count": null,
   "id": "c79b7f86",
   "metadata": {},
   "outputs": [],
   "source": []
  },
  {
   "cell_type": "code",
   "execution_count": 18,
   "id": "82c16f32",
   "metadata": {},
   "outputs": [],
   "source": [
    "from sklearn.model_selection import GroupShuffleSplit \n",
    "\n",
    "splitter = GroupShuffleSplit(test_size=0.2, n_splits=1, random_state = 7)\n",
    "split = splitter.split(np_array_data, groups=patient_id)\n",
    "train_inds, test_inds = next(split)\n",
    "\n",
    "train = np_array_data[train_inds]\n",
    "test = np_array_data[test_inds]\n",
    "\n"
   ]
  },
  {
   "cell_type": "code",
   "execution_count": null,
   "id": "7f7a7ab7",
   "metadata": {},
   "outputs": [],
   "source": []
  },
  {
   "cell_type": "code",
   "execution_count": 23,
   "id": "7c681cb2",
   "metadata": {},
   "outputs": [
    {
     "name": "stdout",
     "output_type": "stream",
     "text": [
      "int64\n"
     ]
    }
   ],
   "source": [
    "print(train_inds.dtype)"
   ]
  },
  {
   "cell_type": "code",
   "execution_count": 19,
   "id": "de72eaa5",
   "metadata": {},
   "outputs": [
    {
     "name": "stdout",
     "output_type": "stream",
     "text": [
      "train shape: (882, 64, 128, 64), test shape: (228, 64, 128, 64)\n"
     ]
    }
   ],
   "source": [
    "print(f\"train shape: {train.shape}, test shape: {test.shape}\")"
   ]
  },
  {
   "cell_type": "code",
   "execution_count": 2,
   "id": "ae45946a",
   "metadata": {},
   "outputs": [
    {
     "ename": "ValueError",
     "evalue": "Invalid value for test_size: True",
     "output_type": "error",
     "traceback": [
      "\u001b[31m---------------------------------------------------------------------------\u001b[39m",
      "\u001b[31mValueError\u001b[39m                                Traceback (most recent call last)",
      "\u001b[36mCell\u001b[39m\u001b[36m \u001b[39m\u001b[32mIn[2]\u001b[39m\u001b[32m, line 2\u001b[39m\n\u001b[32m      1\u001b[39m \u001b[38;5;66;03m# generate cross-validation folds\u001b[39;00m\n\u001b[32m----> \u001b[39m\u001b[32m2\u001b[39m cv_split = \u001b[43mdata_loader\u001b[49m\u001b[43m.\u001b[49m\u001b[43mretina_npy_split\u001b[49m\u001b[43m(\u001b[49m\u001b[43mnp_array_data\u001b[49m\u001b[43m,\u001b[49m\u001b[43m \u001b[49m\u001b[43mlabels_data\u001b[49m\u001b[43m,\u001b[49m\u001b[43m \u001b[49m\u001b[43mpatient_id\u001b[49m\u001b[43m,\u001b[49m\u001b[43m \u001b[49m\u001b[32;43m10\u001b[39;49m\u001b[43m,\u001b[49m\u001b[38;5;28;43;01mTrue\u001b[39;49;00m\u001b[43m,\u001b[49m\u001b[32;43m42\u001b[39;49m\u001b[43m)\u001b[49m\n",
      "\u001b[36mFile \u001b[39m\u001b[32mc:\\Users\\tabea\\Documents\\University\\UM\\Master\\Master_Thesis\\master-thesis\\data_load.py:156\u001b[39m, in \u001b[36mDataLoader.retina_npy_split\u001b[39m\u001b[34m(np_array_data, labels_data, patient_id, eye_side, test_proportion, val_proportion)\u001b[39m\n\u001b[32m    144\u001b[39m \u001b[38;5;129m@staticmethod\u001b[39m\n\u001b[32m    145\u001b[39m \u001b[38;5;28;01mdef\u001b[39;00m\u001b[38;5;250m \u001b[39m\u001b[34mretina_npy_split\u001b[39m(np_array_data, labels_data, patient_id, eye_side, test_proportion=\u001b[32m0.2\u001b[39m, val_proportion=\u001b[32m0.15\u001b[39m):\n\u001b[32m    146\u001b[39m \u001b[38;5;250m    \u001b[39m\u001b[33;03m\"\"\"splits the dataset into parts for training, testing and validation\u001b[39;00m\n\u001b[32m    147\u001b[39m \n\u001b[32m    148\u001b[39m \u001b[33;03m    Returns\u001b[39;00m\n\u001b[32m   (...)\u001b[39m\u001b[32m    153\u001b[39m \u001b[33;03m        a list of labels corresponding via index to the numpy arrays\u001b[39;00m\n\u001b[32m    154\u001b[39m \u001b[33;03m    \"\"\"\u001b[39;00m\n\u001b[32m--> \u001b[39m\u001b[32m156\u001b[39m     X_train, X_test, y_train, y_test = \u001b[43mtrain_test_split\u001b[49m\u001b[43m(\u001b[49m\u001b[43mnp_array_data\u001b[49m\u001b[43m,\u001b[49m\u001b[43m \u001b[49m\u001b[43mlabels_data\u001b[49m\u001b[43m,\u001b[49m\u001b[43m \u001b[49m\u001b[43mtest_size\u001b[49m\u001b[43m=\u001b[49m\u001b[43mtest_proportion\u001b[49m\u001b[43m,\u001b[49m\u001b[43m \u001b[49m\u001b[43mshuffle\u001b[49m\u001b[43m=\u001b[49m\u001b[38;5;28;43;01mTrue\u001b[39;49;00m\u001b[43m)\u001b[49m\n\u001b[32m    157\u001b[39m     X_train, X_val, y_train, y_val = train_test_split(X_train, y_train, test_size=val_proportion, shuffle=\u001b[38;5;28;01mTrue\u001b[39;00m)\n\u001b[32m    158\u001b[39m     \u001b[38;5;28;01mreturn\u001b[39;00m X_train, X_test, X_val, y_train, y_test, y_val\n",
      "\u001b[36mFile \u001b[39m\u001b[32mc:\\Users\\tabea\\Documents\\University\\UM\\Master\\Master_Thesis\\master-thesis\\venv\\Lib\\site-packages\\sklearn\\utils\\_param_validation.py:216\u001b[39m, in \u001b[36mvalidate_params.<locals>.decorator.<locals>.wrapper\u001b[39m\u001b[34m(*args, **kwargs)\u001b[39m\n\u001b[32m    210\u001b[39m \u001b[38;5;28;01mtry\u001b[39;00m:\n\u001b[32m    211\u001b[39m     \u001b[38;5;28;01mwith\u001b[39;00m config_context(\n\u001b[32m    212\u001b[39m         skip_parameter_validation=(\n\u001b[32m    213\u001b[39m             prefer_skip_nested_validation \u001b[38;5;129;01mor\u001b[39;00m global_skip_validation\n\u001b[32m    214\u001b[39m         )\n\u001b[32m    215\u001b[39m     ):\n\u001b[32m--> \u001b[39m\u001b[32m216\u001b[39m         \u001b[38;5;28;01mreturn\u001b[39;00m \u001b[43mfunc\u001b[49m\u001b[43m(\u001b[49m\u001b[43m*\u001b[49m\u001b[43margs\u001b[49m\u001b[43m,\u001b[49m\u001b[43m \u001b[49m\u001b[43m*\u001b[49m\u001b[43m*\u001b[49m\u001b[43mkwargs\u001b[49m\u001b[43m)\u001b[49m\n\u001b[32m    217\u001b[39m \u001b[38;5;28;01mexcept\u001b[39;00m InvalidParameterError \u001b[38;5;28;01mas\u001b[39;00m e:\n\u001b[32m    218\u001b[39m     \u001b[38;5;66;03m# When the function is just a wrapper around an estimator, we allow\u001b[39;00m\n\u001b[32m    219\u001b[39m     \u001b[38;5;66;03m# the function to delegate validation to the estimator, but we replace\u001b[39;00m\n\u001b[32m    220\u001b[39m     \u001b[38;5;66;03m# the name of the estimator by the name of the function in the error\u001b[39;00m\n\u001b[32m    221\u001b[39m     \u001b[38;5;66;03m# message to avoid confusion.\u001b[39;00m\n\u001b[32m    222\u001b[39m     msg = re.sub(\n\u001b[32m    223\u001b[39m         \u001b[33mr\u001b[39m\u001b[33m\"\u001b[39m\u001b[33mparameter of \u001b[39m\u001b[33m\\\u001b[39m\u001b[33mw+ must be\u001b[39m\u001b[33m\"\u001b[39m,\n\u001b[32m    224\u001b[39m         \u001b[33mf\u001b[39m\u001b[33m\"\u001b[39m\u001b[33mparameter of \u001b[39m\u001b[38;5;132;01m{\u001b[39;00mfunc.\u001b[34m__qualname__\u001b[39m\u001b[38;5;132;01m}\u001b[39;00m\u001b[33m must be\u001b[39m\u001b[33m\"\u001b[39m,\n\u001b[32m    225\u001b[39m         \u001b[38;5;28mstr\u001b[39m(e),\n\u001b[32m    226\u001b[39m     )\n",
      "\u001b[36mFile \u001b[39m\u001b[32mc:\\Users\\tabea\\Documents\\University\\UM\\Master\\Master_Thesis\\master-thesis\\venv\\Lib\\site-packages\\sklearn\\model_selection\\_split.py:2851\u001b[39m, in \u001b[36mtrain_test_split\u001b[39m\u001b[34m(test_size, train_size, random_state, shuffle, stratify, *arrays)\u001b[39m\n\u001b[32m   2848\u001b[39m arrays = indexable(*arrays)\n\u001b[32m   2850\u001b[39m n_samples = _num_samples(arrays[\u001b[32m0\u001b[39m])\n\u001b[32m-> \u001b[39m\u001b[32m2851\u001b[39m n_train, n_test = \u001b[43m_validate_shuffle_split\u001b[49m\u001b[43m(\u001b[49m\n\u001b[32m   2852\u001b[39m \u001b[43m    \u001b[49m\u001b[43mn_samples\u001b[49m\u001b[43m,\u001b[49m\u001b[43m \u001b[49m\u001b[43mtest_size\u001b[49m\u001b[43m,\u001b[49m\u001b[43m \u001b[49m\u001b[43mtrain_size\u001b[49m\u001b[43m,\u001b[49m\u001b[43m \u001b[49m\u001b[43mdefault_test_size\u001b[49m\u001b[43m=\u001b[49m\u001b[32;43m0.25\u001b[39;49m\n\u001b[32m   2853\u001b[39m \u001b[43m\u001b[49m\u001b[43m)\u001b[49m\n\u001b[32m   2855\u001b[39m \u001b[38;5;28;01mif\u001b[39;00m shuffle \u001b[38;5;129;01mis\u001b[39;00m \u001b[38;5;28;01mFalse\u001b[39;00m:\n\u001b[32m   2856\u001b[39m     \u001b[38;5;28;01mif\u001b[39;00m stratify \u001b[38;5;129;01mis\u001b[39;00m \u001b[38;5;129;01mnot\u001b[39;00m \u001b[38;5;28;01mNone\u001b[39;00m:\n",
      "\u001b[36mFile \u001b[39m\u001b[32mc:\\Users\\tabea\\Documents\\University\\UM\\Master\\Master_Thesis\\master-thesis\\venv\\Lib\\site-packages\\sklearn\\model_selection\\_split.py:2447\u001b[39m, in \u001b[36m_validate_shuffle_split\u001b[39m\u001b[34m(n_samples, test_size, train_size, default_test_size)\u001b[39m\n\u001b[32m   2445\u001b[39m     \u001b[38;5;28;01mraise\u001b[39;00m \u001b[38;5;167;01mValueError\u001b[39;00m(\u001b[33m\"\u001b[39m\u001b[33mInvalid value for train_size: \u001b[39m\u001b[38;5;132;01m{}\u001b[39;00m\u001b[33m\"\u001b[39m.format(train_size))\n\u001b[32m   2446\u001b[39m \u001b[38;5;28;01mif\u001b[39;00m test_size \u001b[38;5;129;01mis\u001b[39;00m \u001b[38;5;129;01mnot\u001b[39;00m \u001b[38;5;28;01mNone\u001b[39;00m \u001b[38;5;129;01mand\u001b[39;00m test_size_type \u001b[38;5;129;01mnot\u001b[39;00m \u001b[38;5;129;01min\u001b[39;00m (\u001b[33m\"\u001b[39m\u001b[33mi\u001b[39m\u001b[33m\"\u001b[39m, \u001b[33m\"\u001b[39m\u001b[33mf\u001b[39m\u001b[33m\"\u001b[39m):\n\u001b[32m-> \u001b[39m\u001b[32m2447\u001b[39m     \u001b[38;5;28;01mraise\u001b[39;00m \u001b[38;5;167;01mValueError\u001b[39;00m(\u001b[33m\"\u001b[39m\u001b[33mInvalid value for test_size: \u001b[39m\u001b[38;5;132;01m{}\u001b[39;00m\u001b[33m\"\u001b[39m.format(test_size))\n\u001b[32m   2449\u001b[39m \u001b[38;5;28;01mif\u001b[39;00m train_size_type == \u001b[33m\"\u001b[39m\u001b[33mf\u001b[39m\u001b[33m\"\u001b[39m \u001b[38;5;129;01mand\u001b[39;00m test_size_type == \u001b[33m\"\u001b[39m\u001b[33mf\u001b[39m\u001b[33m\"\u001b[39m \u001b[38;5;129;01mand\u001b[39;00m train_size + test_size > \u001b[32m1\u001b[39m:\n\u001b[32m   2450\u001b[39m     \u001b[38;5;28;01mraise\u001b[39;00m \u001b[38;5;167;01mValueError\u001b[39;00m(\n\u001b[32m   2451\u001b[39m         \u001b[33m\"\u001b[39m\u001b[33mThe sum of test_size and train_size = \u001b[39m\u001b[38;5;132;01m{}\u001b[39;00m\u001b[33m, should be in the (0, 1)\u001b[39m\u001b[33m\"\u001b[39m\n\u001b[32m   2452\u001b[39m         \u001b[33m\"\u001b[39m\u001b[33m range. Reduce test_size and/or train_size.\u001b[39m\u001b[33m\"\u001b[39m.format(train_size + test_size)\n\u001b[32m   2453\u001b[39m     )\n",
      "\u001b[31mValueError\u001b[39m: Invalid value for test_size: True"
     ]
    }
   ],
   "source": [
    "# generate cross-validation folds\n",
    "cv_split = data_loader.retina_npy_split(np_array_data, labels_data, patient_id, 10,True,42)"
   ]
  },
  {
   "cell_type": "code",
   "execution_count": 5,
   "id": "e51e5c53",
   "metadata": {},
   "outputs": [
    {
     "ename": "NameError",
     "evalue": "name 'cv_split' is not defined",
     "output_type": "error",
     "traceback": [
      "\u001b[31m---------------------------------------------------------------------------\u001b[39m",
      "\u001b[31mNameError\u001b[39m                                 Traceback (most recent call last)",
      "\u001b[36mCell\u001b[39m\u001b[36m \u001b[39m\u001b[32mIn[5]\u001b[39m\u001b[32m, line 3\u001b[39m\n\u001b[32m      1\u001b[39m \u001b[38;5;28;01mimport\u001b[39;00m\u001b[38;5;250m \u001b[39m\u001b[34;01mmatplotlib\u001b[39;00m\u001b[34;01m.\u001b[39;00m\u001b[34;01mpyplot\u001b[39;00m\u001b[38;5;250m \u001b[39m\u001b[38;5;28;01mas\u001b[39;00m\u001b[38;5;250m \u001b[39m\u001b[34;01mplt\u001b[39;00m\n\u001b[32m      2\u001b[39m fig, ax = plt.subplots(figsize=(\u001b[32m6\u001b[39m, \u001b[32m3\u001b[39m))\n\u001b[32m----> \u001b[39m\u001b[32m3\u001b[39m data_loader.plot_kfold(\u001b[43mcv_split\u001b[49m, ax)\n\u001b[32m      4\u001b[39m plt.tight_layout()\n\u001b[32m      5\u001b[39m fig.subplots_adjust(right=\u001b[32m0.6\u001b[39m)\n",
      "\u001b[31mNameError\u001b[39m: name 'cv_split' is not defined"
     ]
    },
    {
     "data": {
      "image/png": "[encoded data removed]",
      "text/plain": [
       "<Figure size 600x300 with 1 Axes>"
      ]
     },
     "metadata": {},
     "output_type": "display_data"
    }
   ],
   "source": [
    "import matplotlib.pyplot as plt\n",
    "fig, ax = plt.subplots(figsize=(6, 3))\n",
    "data_loader.plot_kfold(cv_split, ax)\n",
    "plt.tight_layout()\n",
    "fig.subplots_adjust(right=0.6)"
   ]
  },
  {
   "cell_type": "code",
   "execution_count": 15,
   "id": "cca312c5",
   "metadata": {},
   "outputs": [
    {
     "data": {
      "image/png": "[encoded data removed]",
      "text/plain": [
       "<Figure size 600x300 with 1 Axes>"
      ]
     },
     "metadata": {},
     "output_type": "display_data"
    }
   ],
   "source": [
    "from sklearn.model_selection import GroupKFold\n",
    "import matplotlib.pyplot as plt\n",
    "gkf2 = GroupKFold(n_splits=10, shuffle=True, random_state=53)\n",
    "cv_split2 = gkf2.split(X=np_array_data, y=labels_data, groups = patient_id)\n",
    "fig2, ax2 = plt.subplots(figsize=(6, 3))\n",
    "data_loader.plot_kfold(cv_split2, ax2)\n",
    "plt.tight_layout()\n",
    "fig2.subplots_adjust(right=0.6)\n",
    "plt.show()"
   ]
  },
  {
   "cell_type": "code",
   "execution_count": null,
   "id": "ad1399e1",
   "metadata": {},
   "outputs": [
    {
     "name": "stdout",
     "output_type": "stream",
     "text": [
      "Fold 1:\n",
      "0.7625250501002004 0.7678571428571429\n",
      "Fold 2:\n",
      "0.755223880597015 0.8380952380952381\n",
      "Fold 3:\n",
      "0.7607607607607607 0.7837837837837838\n",
      "Fold 4:\n",
      "0.7716297786720322 0.6896551724137931\n",
      "Fold 5:\n",
      "0.7604790419161677 0.7870370370370371\n",
      "Fold 6:\n",
      "0.7665330661322646 0.7321428571428571\n",
      "Fold 7:\n",
      "0.7622377622377622 0.7706422018348624\n",
      "Fold 8:\n",
      "0.7625250501002004 0.7678571428571429\n",
      "Fold 9:\n",
      "0.769307923771314 0.7079646017699115\n",
      "Fold 10:\n",
      "0.7595190380761523 0.7946428571428571\n"
     ]
    }
   ],
   "source": [
    "for i, (train_idx, test_idx) in enumerate(gkf2.split(X=np_array_data, y=labels_data, groups = patient_id)):\n",
    "    print(f\"Fold {i+1}:\")\n",
    "    # print(f\"Train indices: {train_idx[0:10]}\")\n",
    "    # print(f\"Test indices: {test_idx[0:10]}\")\n",
    "    print(sum(labels_data[train_idx])/len(train_idx), sum(labels_data[test_idx])/len(test_idx))\n"
   ]
  },
  {
   "cell_type": "code",
   "execution_count": null,
   "id": "32c5343c",
   "metadata": {},
   "outputs": [],
   "source": []
  },
  {
   "cell_type": "code",
   "execution_count": 8,
   "id": "e52ae2a3",
   "metadata": {},
   "outputs": [
    {
     "ename": "SyntaxError",
     "evalue": "invalid syntax (1899857523.py, line 1)",
     "output_type": "error",
     "traceback": [
      "  \u001b[36mCell\u001b[39m\u001b[36m \u001b[39m\u001b[32mIn[8]\u001b[39m\u001b[32m, line 1\u001b[39m\n\u001b[31m    \u001b[39m\u001b[31mhttps://matplotlib.org/stable/gallery/mplot3d/rotate_axes3d_sgskip.html#\u001b[39m\n          ^\n\u001b[31mSyntaxError\u001b[39m\u001b[31m:\u001b[39m invalid syntax\n"
     ]
    }
   ],
   "source": [
    "https://matplotlib.org/stable/gallery/mplot3d/rotate_axes3d_sgskip.html#"
   ]
  },
  {
   "cell_type": "code",
   "execution_count": null,
   "id": "b8bcb640",
   "metadata": {},
   "outputs": [],
   "source": []
  }
 ],
 "metadata": {
  "kernelspec": {
   "display_name": "venv",
   "language": "python",
   "name": "python3"
  },
  "language_info": {
   "codemirror_mode": {
    "name": "ipython",
    "version": 3
   },
   "file_extension": ".py",
   "mimetype": "text/x-python",
   "name": "python",
   "nbconvert_exporter": "python",
   "pygments_lexer": "ipython3",
   "version": "3.12.6"
  }
 },
 "nbformat": 4,
 "nbformat_minor": 5
}
